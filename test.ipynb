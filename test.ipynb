{
 "cells": [
  {
   "cell_type": "code",
   "execution_count": 1,
   "metadata": {},
   "outputs": [],
   "source": [
    "%load_ext autoreload\n",
    "%load_ext wurlitzer"
   ]
  },
  {
   "cell_type": "code",
   "execution_count": 2,
   "metadata": {},
   "outputs": [],
   "source": [
    "%autoreload 2\n",
    "from JunoCamProjection import projector\n",
    "import numpy as np\n",
    "import matplotlib.pyplot as plt"
   ]
  },
  {
   "cell_type": "code",
   "execution_count": 3,
   "metadata": {},
   "outputs": [],
   "source": [
    "KERNEL_DATAFOLDER = '/home/local/Isis/data/juno/kernels/'"
   ]
  },
  {
   "cell_type": "code",
   "execution_count": 4,
   "metadata": {},
   "outputs": [],
   "source": [
    "proj = projector.Projector(\"ImageSet/\", \"DataSet/5616-Metadata.json\", KERNEL_DATAFOLDER)"
   ]
  },
  {
   "cell_type": "code",
   "execution_count": 5,
   "metadata": {},
   "outputs": [
    {
     "name": "stdout",
     "output_type": "stream",
     "text": [
      "JNCE_2018250_15C00024_V01\n",
      "Projecting framelets:\n",
      "[=================== ] 96.83%\n",
      "Extents - lon: 2.446 42.150 lat: 8.006 48.455 - lowest pixres: 0.002 deg/pix\n"
     ]
    }
   ],
   "source": [
    "proj.process(num_procs=10)"
   ]
  },
  {
   "cell_type": "code",
   "execution_count": null,
   "metadata": {
    "scrolled": true
   },
   "outputs": [
    {
     "name": "stdout",
     "output_type": "stream",
     "text": [
      "Mosaic size: 1986 x 2023\n",
      "Projecting JNCE_2018250_15C00024_V01\n",
      "Processing R\n",
      " 2000/2023 \n",
      "[=================== ] 98.63%\n",
      "Processing G\n",
      " 2000/2023 \n",
      "[=================== ] 98.63%\n",
      "Processing B\n",
      " 2000/2023 \n",
      "[============        ] 64.38%"
     ]
    }
   ],
   "source": [
    "resolution=50 ## pixels/degree\n",
    "newlon = np.arange(2.446, 42.150, 1./resolution)\n",
    "newlat = np.arange(8.006, 48.455, 1./resolution)\n",
    "print(\"Mosaic size: %d x %d\"%(newlon.size, newlat.size))\n",
    "IMG, mask = projector.map_project(newlon, newlat, \"%s.nc\"%proj.fname, save=True, num_procs=10)"
   ]
  },
  {
   "cell_type": "code",
   "execution_count": null,
   "metadata": {},
   "outputs": [],
   "source": [
    "IMG_corr = projector.color_correction(IMG, newlon, newlat, gamma=1.0, fname=proj.fname, save=True)"
   ]
  }
 ],
 "metadata": {
  "kernelspec": {
   "display_name": "Python 3",
   "language": "python",
   "name": "python3"
  },
  "language_info": {
   "codemirror_mode": {
    "name": "ipython",
    "version": 3
   },
   "file_extension": ".py",
   "mimetype": "text/x-python",
   "name": "python",
   "nbconvert_exporter": "python",
   "pygments_lexer": "ipython3",
   "version": "3.6.9"
  }
 },
 "nbformat": 4,
 "nbformat_minor": 2
}
